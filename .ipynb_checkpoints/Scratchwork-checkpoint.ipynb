{
 "cells": [
  {
   "cell_type": "markdown",
   "id": "9ca6d6c2",
   "metadata": {},
   "source": [
    "Time tracking:\n",
    "- 11/19, 5:30 - 6:00, initial setup, starting scratchwork\n",
    "- 11/20, 4:45 - 5:30, onto GitHub, got Sinkhorn to run"
   ]
  },
  {
   "cell_type": "code",
   "execution_count": 1,
   "id": "8a671420",
   "metadata": {},
   "outputs": [],
   "source": [
    "# Autoreload so we don't have to reimport packages when we change them\n",
    "%load_ext autoreload\n",
    "%autoreload 2"
   ]
  },
  {
   "cell_type": "code",
   "execution_count": 2,
   "id": "74111603",
   "metadata": {},
   "outputs": [],
   "source": [
    "import numpy as np\n",
    "import random\n",
    "import bary"
   ]
  },
  {
   "cell_type": "markdown",
   "id": "88efa02b",
   "metadata": {},
   "source": [
    "First get it to run on 1D data, and using the differentiability to gradient descent to a fixed measure"
   ]
  },
  {
   "cell_type": "code",
   "execution_count": 63,
   "id": "4c0fb481",
   "metadata": {},
   "outputs": [],
   "source": [
    "# Number of points in 1D\n",
    "n = 10\n",
    "\n",
    "# Locations I'll use\n",
    "x = list(range(n))\n",
    "\n",
    "# Target measure\n",
    "## p even though it's not a probability distribution\n",
    "p = [random.random() for i in range(n)]\n",
    "p = p / np.sum(p)\n",
    "\n",
    "# Distance matrix\n",
    "M = np.zeros((n,n))\n",
    "for i in range(n):\n",
    "    for j in range(n):\n",
    "        M[i,j] = abs(i-j)"
   ]
  },
  {
   "cell_type": "code",
   "execution_count": 71,
   "id": "bc6c9c06",
   "metadata": {},
   "outputs": [
    {
     "data": {
      "text/plain": [
       "5.027848958262034"
      ]
     },
     "execution_count": 71,
     "metadata": {},
     "output_type": "execute_result"
    }
   ],
   "source": [
    "l = 10\n",
    "q = np.zeros(n)\n",
    "q[0] = sum(p)\n",
    "\n",
    "bary.sinkhorn(p,q,M,l)"
   ]
  },
  {
   "cell_type": "code",
   "execution_count": 81,
   "id": "b4f586d4",
   "metadata": {},
   "outputs": [
    {
     "data": {
      "text/plain": [
       "1.4100000000000004"
      ]
     },
     "execution_count": 81,
     "metadata": {},
     "output_type": "execute_result"
    }
   ],
   "source": [
    "# Test\n",
    "p = np.ones(10) * 0.01\n",
    "q = np.zeros(10)\n",
    "p[0] = p[0] + 0.5\n",
    "q[1] = 0.3\n",
    "q[2] = 0.7\n",
    "p[3] = p[4] + 0.4\n",
    "bary.sinkhorn(p,q,M,30)"
   ]
  },
  {
   "cell_type": "code",
   "execution_count": 82,
   "id": "c0ab9e37",
   "metadata": {},
   "outputs": [
    {
     "data": {
      "text/plain": [
       "1.3900000000000001"
      ]
     },
     "execution_count": 82,
     "metadata": {},
     "output_type": "execute_result"
    }
   ],
   "source": [
    "# Approx ish\n",
    "# So it passes\n",
    "0.3 + 2*0.2 + 0.4 + 0.01 * (1 + 0 + 0 + 1 + 2 + 3 + 4 + 5 + 6 + 7)"
   ]
  },
  {
   "cell_type": "code",
   "execution_count": 83,
   "id": "546ef8f1",
   "metadata": {},
   "outputs": [
    {
     "data": {
      "text/plain": [
       "7.049999999999999"
      ]
     },
     "execution_count": 83,
     "metadata": {},
     "output_type": "execute_result"
    }
   ],
   "source": [
    "# Test\n",
    "p = np.ones(10) * 0.01\n",
    "q = np.zeros(10)\n",
    "p[0] = p[0] + 0.5\n",
    "q[1] = 0.3\n",
    "q[2] = 0.7\n",
    "p[3] = p[4] + 0.4\n",
    "p = p * 5\n",
    "q = q * 5\n",
    "bary.sinkhorn(p,q,M,30)"
   ]
  },
  {
   "cell_type": "markdown",
   "id": "046b9cff",
   "metadata": {},
   "source": [
    "Ok, looks like the Sinkhorn code is correct. To do though:\n",
    "- Edit so r = 0 doesn't throw errors\n",
    "- Run it on some Google Quick Draw! stuff\n",
    "- Vectorize better for computing distance of one histogram to many"
   ]
  },
  {
   "cell_type": "code",
   "execution_count": null,
   "id": "2edbdf2c",
   "metadata": {},
   "outputs": [],
   "source": []
  }
 ],
 "metadata": {
  "kernelspec": {
   "display_name": "Python 3 (ipykernel)",
   "language": "python",
   "name": "python3"
  },
  "language_info": {
   "codemirror_mode": {
    "name": "ipython",
    "version": 3
   },
   "file_extension": ".py",
   "mimetype": "text/x-python",
   "name": "python",
   "nbconvert_exporter": "python",
   "pygments_lexer": "ipython3",
   "version": "3.9.7"
  }
 },
 "nbformat": 4,
 "nbformat_minor": 5
}
