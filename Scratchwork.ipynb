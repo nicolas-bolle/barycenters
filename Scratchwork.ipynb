{
 "cells": [
  {
   "cell_type": "markdown",
   "id": "9ca6d6c2",
   "metadata": {},
   "source": [
    "Time tracking:\n",
    "- 11/19, 5:30 - 6:00"
   ]
  },
  {
   "cell_type": "code",
   "execution_count": 19,
   "id": "74111603",
   "metadata": {},
   "outputs": [],
   "source": [
    "import numpy as np\n",
    "import random\n",
    "import bary"
   ]
  },
  {
   "cell_type": "markdown",
   "id": "88efa02b",
   "metadata": {},
   "source": [
    "First get it to run on 1D data, and using the differentiability to gradient descent to a fixed measure"
   ]
  },
  {
   "cell_type": "code",
   "execution_count": 14,
   "id": "4c0fb481",
   "metadata": {},
   "outputs": [],
   "source": [
    "# Number of points in 1D\n",
    "n = 10\n",
    "\n",
    "# Locations I'll use\n",
    "x = list(range(n))\n",
    "\n",
    "# Target measure\n",
    "# p even though it's not a probability distribution\n",
    "p = [random.random() for i in range(n)]"
   ]
  },
  {
   "cell_type": "code",
   "execution_count": 15,
   "id": "fe055b1f",
   "metadata": {},
   "outputs": [
    {
     "data": {
      "text/plain": [
       "[0.19211737152643926,\n",
       " 0.05145268588198282,\n",
       " 0.09875270948487413,\n",
       " 0.38463551331390555,\n",
       " 0.7697651032278082,\n",
       " 0.22969139118912874,\n",
       " 0.3342927108688337,\n",
       " 0.05238452099031443,\n",
       " 0.6757266758297075,\n",
       " 0.17667477094384276]"
      ]
     },
     "execution_count": 15,
     "metadata": {},
     "output_type": "execute_result"
    }
   ],
   "source": [
    "p"
   ]
  },
  {
   "cell_type": "code",
   "execution_count": 20,
   "id": "7e916779",
   "metadata": {},
   "outputs": [
    {
     "data": {
      "text/plain": [
       "array([1.        , 2.71828183])"
      ]
     },
     "execution_count": 20,
     "metadata": {},
     "output_type": "execute_result"
    }
   ],
   "source": [
    "np.exp([0,1])"
   ]
  },
  {
   "cell_type": "code",
   "execution_count": 21,
   "id": "5b503184",
   "metadata": {},
   "outputs": [
    {
     "data": {
      "text/plain": [
       "array([[ 1.        ,  2.71828183],\n",
       "       [ 7.3890561 , 20.08553692]])"
      ]
     },
     "execution_count": 21,
     "metadata": {},
     "output_type": "execute_result"
    }
   ],
   "source": [
    "np.exp(np.array([[0,1],[2,3]]))"
   ]
  },
  {
   "cell_type": "code",
   "execution_count": null,
   "id": "c38e1446",
   "metadata": {},
   "outputs": [],
   "source": []
  }
 ],
 "metadata": {
  "kernelspec": {
   "display_name": "Python 3 (ipykernel)",
   "language": "python",
   "name": "python3"
  },
  "language_info": {
   "codemirror_mode": {
    "name": "ipython",
    "version": 3
   },
   "file_extension": ".py",
   "mimetype": "text/x-python",
   "name": "python",
   "nbconvert_exporter": "python",
   "pygments_lexer": "ipython3",
   "version": "3.9.7"
  }
 },
 "nbformat": 4,
 "nbformat_minor": 5
}
